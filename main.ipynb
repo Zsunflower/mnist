{
 "cells": [
  {
   "cell_type": "markdown",
   "metadata": {},
   "source": [
    "### Train"
   ]
  },
  {
   "cell_type": "code",
   "execution_count": 1,
   "metadata": {
    "scrolled": true
   },
   "outputs": [
    {
     "name": "stdout",
     "output_type": "stream",
     "text": [
      "Namespace(batch_size=32, ckpt='ckpt', epochs=40, lr=0.001, name='mnist', test_image_file='E:\\\\JupyterNotebook\\\\dataset\\\\mnist\\\\t10k-images.idx3-ubyte', test_label_file='E:\\\\JupyterNotebook\\\\dataset\\\\mnist\\\\t10k-labels.idx1-ubyte', train_image_file='E:\\\\JupyterNotebook\\\\dataset\\\\mnist\\\\train-images.idx3-ubyte', train_label_file='E:\\\\JupyterNotebook\\\\dataset\\\\mnist\\\\train-labels.idx1-ubyte')\n",
      "Train 48000, val 12000, test 10000\n",
      "Epoch 0, loss 0.2817, val_acc 0.9638\n",
      "Epoch 1, loss 0.0657, val_acc 0.9813\n",
      "Epoch 2, loss 0.0443, val_acc 0.9837\n",
      "Epoch 3, loss 0.0323, val_acc 0.9820\n",
      "Epoch 4, loss 0.0244, val_acc 0.9843\n",
      "Epoch 5, loss 0.0187, val_acc 0.9857\n",
      "Epoch 6, loss 0.0148, val_acc 0.9867\n",
      "Epoch 7, loss 0.0117, val_acc 0.9878\n",
      "Epoch 8, loss 0.0097, val_acc 0.9868\n",
      "Epoch 9, loss 0.0070, val_acc 0.9852\n",
      "Epoch 10, loss 0.0060, val_acc 0.9880\n",
      "Epoch 11, loss 0.0048, val_acc 0.9887\n",
      "Epoch 12, loss 0.0040, val_acc 0.9881\n",
      "Epoch 13, loss 0.0034, val_acc 0.9883\n",
      "Epoch 14, loss 0.0029, val_acc 0.9887\n",
      "Epoch 15, loss 0.0025, val_acc 0.9885\n",
      "Epoch 16, loss 0.0021, val_acc 0.9887\n",
      "Epoch 17, loss 0.0018, val_acc 0.9884\n",
      "Epoch 18, loss 0.0016, val_acc 0.9887\n",
      "Epoch 19, loss 0.0014, val_acc 0.9888\n",
      "Epoch 20, loss 0.0013, val_acc 0.9883\n",
      "Epoch 21, loss 0.0012, val_acc 0.9884\n",
      "Epoch 22, loss 0.0011, val_acc 0.9885\n",
      "Epoch 23, loss 0.0010, val_acc 0.9885\n",
      "Epoch 24, loss 0.0009, val_acc 0.9892\n",
      "Epoch 25, loss 0.0009, val_acc 0.9886\n",
      "Epoch 26, loss 0.0008, val_acc 0.9890\n",
      "Epoch 27, loss 0.0008, val_acc 0.9889\n",
      "Epoch 28, loss 0.0007, val_acc 0.9888\n",
      "Epoch 29, loss 0.0007, val_acc 0.9888\n",
      "Epoch 30, loss 0.0006, val_acc 0.9890\n",
      "Epoch 31, loss 0.0006, val_acc 0.9891\n",
      "Epoch 32, loss 0.0006, val_acc 0.9889\n",
      "Epoch 33, loss 0.0006, val_acc 0.9886\n",
      "Epoch 34, loss 0.0005, val_acc 0.9891\n",
      "Epoch 35, loss 0.0005, val_acc 0.9886\n",
      "Epoch 36, loss 0.0005, val_acc 0.9885\n",
      "Epoch 37, loss 0.0005, val_acc 0.9889\n",
      "Epoch 38, loss 0.0005, val_acc 0.9889\n",
      "Epoch 39, loss 0.0004, val_acc 0.9893\n",
      "Evaluate model, acc: 0.9893\n"
     ]
    }
   ],
   "source": [
    "!python train.py --name=mnist \\\n",
    "                 --train_image_file=\"mnist\\train-images.idx3-ubyte\" \\\n",
    "                 --train_label_file=\"mnist\\train-labels.idx1-ubyte\" \\\n",
    "                 --test_image_file=\"mnist\\t10k-images.idx3-ubyte\" \\\n",
    "                 --test_label_file=\"mnist\\t10k-labels.idx1-ubyte\" \\\n",
    "                 --batch_size=32 \\\n",
    "                 --ckpt=ckpt \\\n",
    "                 --lr=0.001 \\\n",
    "                 --epochs=40"
   ]
  },
  {
   "cell_type": "markdown",
   "metadata": {},
   "source": [
    "### Test"
   ]
  },
  {
   "cell_type": "code",
   "execution_count": 3,
   "metadata": {},
   "outputs": [
    {
     "name": "stdout",
     "output_type": "stream",
     "text": [
      "Acc: 0.9902\n"
     ]
    }
   ],
   "source": [
    "!python test.py --name=mnist \\\n",
    "                --checkpoint=\"ckpt/mnist_39_0.9893.pth\" \\\n",
    "                --test_image_file=\"mnist\\t10k-images.idx3-ubyte\" \\\n",
    "                --test_label_file=\"mnist\\t10k-labels.idx1-ubyte\" \\\n",
    "                --batch_size=32"
   ]
  },
  {
   "cell_type": "code",
   "execution_count": null,
   "metadata": {},
   "outputs": [],
   "source": []
  }
 ],
 "metadata": {
  "kernelspec": {
   "display_name": "Python 3",
   "language": "python",
   "name": "python3"
  },
  "language_info": {
   "codemirror_mode": {
    "name": "ipython",
    "version": 3
   },
   "file_extension": ".py",
   "mimetype": "text/x-python",
   "name": "python",
   "nbconvert_exporter": "python",
   "pygments_lexer": "ipython3",
   "version": "3.6.11"
  }
 },
 "nbformat": 4,
 "nbformat_minor": 4
}
